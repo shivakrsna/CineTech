{
 "cells": [
  {
   "cell_type": "markdown",
   "id": "b925b4fc-f204-4ac4-b3fd-a7ecba65a38c",
   "metadata": {},
   "source": [
    "# Using Sarvam Translate to translate my Film subtitles from English to Telugu\n",
    "What I wanted to Experiment within Subtitles:\n",
    "1. [Getting to know specific details about my Subtitles](#intro)\n",
    "2. [Replacing/Modifying specific Dialougues](#replace-dialogue)\n",
    "3. [Shifting all (or) few dialogues by some time.](#shift-dialogues)\n",
    "4. [Translating my dialogues into whatever language I want the output to be in(currently Telugu).](#translate-dialogues)"
   ]
  },
  {
   "cell_type": "markdown",
   "id": "2d46b124-24c1-49ca-b518-474adede2355",
   "metadata": {},
   "source": [
    "## Getting to know specific details about my Subtitles <a id=\"intro\">"
   ]
  },
  {
   "cell_type": "code",
   "execution_count": 3,
   "id": "588e48be-42c4-4efe-ad3f-c268ecd2ac0c",
   "metadata": {},
   "outputs": [],
   "source": [
    "# Import libraries(pysrt is used for subtitle operations)\n",
    "import pysrt\n",
    "import numpy as np"
   ]
  },
  {
   "cell_type": "code",
   "execution_count": 5,
   "id": "cdfdbd04-c616-4f2c-9473-fa518533247d",
   "metadata": {},
   "outputs": [],
   "source": [
    "# Store your subtitle file in another object called subs to perform operations with it.\n",
    "subs = pysrt.open('subsdent.srt')"
   ]
  },
  {
   "cell_type": "markdown",
   "id": "92798b70-98ae-43e2-a93f-82af13c7b591",
   "metadata": {},
   "source": [
    "### *Subs is an object that contains set of dictionaries that specifies Text, Start and End timestamps.*"
   ]
  },
  {
   "cell_type": "code",
   "execution_count": 8,
   "id": "9a6f93d2-cf62-4fb0-9639-99e9042fa502",
   "metadata": {},
   "outputs": [
    {
     "name": "stdout",
     "output_type": "stream",
     "text": [
      "Number of dialogues in my short film:  356\n"
     ]
    }
   ],
   "source": [
    "# Total number of dialogues in my film:\n",
    "print(\"Number of dialogues in my short film: \", len(subs))"
   ]
  },
  {
   "cell_type": "code",
   "execution_count": 16,
   "id": "d785b89a-efe5-4e1c-8aa0-14a743c01f7c",
   "metadata": {},
   "outputs": [],
   "source": [
    "# To know a particular dialogue at index 'i' :-\n",
    "i = 10\n",
    "text = subs[i].text"
   ]
  },
  {
   "cell_type": "code",
   "execution_count": 18,
   "id": "16946119-403f-46d9-87f4-fe8fde0cb703",
   "metadata": {},
   "outputs": [
    {
     "data": {
      "text/plain": [
       "52"
      ]
     },
     "execution_count": 18,
     "metadata": {},
     "output_type": "execute_result"
    }
   ],
   "source": [
    "# Length of any Dialogue at index i\n",
    "len(subs[i].text)"
   ]
  },
  {
   "cell_type": "code",
   "execution_count": 20,
   "id": "ed99bf20-c777-4752-9532-ff7f0cc0fc60",
   "metadata": {},
   "outputs": [],
   "source": [
    "# To know the Start and End Time of a dialougue at index 'i' :-\n",
    "starttime = subs[i].start\n",
    "endtime = subs[i].end\n",
    "# It appears in a format (Hours, Minutes, Seconds, Milliseconds).\n",
    "# To know any one paramater, use subs[i].start(or)end.hours(or)minutes(or)seconds(or)milliseconds"
   ]
  },
  {
   "cell_type": "code",
   "execution_count": 26,
   "id": "4ed6538e-e858-46af-8071-24505068acf5",
   "metadata": {},
   "outputs": [],
   "source": [
    "# To know the duration(in seconds) and length of each dialogue in the subtitle file.\n",
    "# Here, nod is referred to as 'number of dialogues.'\n",
    "durations = []\n",
    "lengths = []\n",
    "for nod in np.arange(0,len(subs)):\n",
    "    length = len(subs[nod].text)\n",
    "    x = subs[nod].start.hours*3600 + subs[nod].start.minutes*60 + subs[nod].start.seconds\n",
    "    y = subs[nod].end.hours*3600 + subs[nod].end.minutes*60 + subs[nod].end.seconds \n",
    "    startduration = x \n",
    "    endduration = y \n",
    "    duration = endduration - startduration #Seconds\n",
    "    durations.append(duration) # To add it in the list of durations\n",
    "    lengths.append(length) # To add it in the list of lengths"
   ]
  },
  {
   "cell_type": "code",
   "execution_count": 38,
   "id": "43c02dc9-3807-4064-8765-a1a4df363ad4",
   "metadata": {},
   "outputs": [
    {
     "name": "stdout",
     "output_type": "stream",
     "text": [
      "The longest dialogue length:  98\n",
      "This dialogue is:\n",
      "-----\n",
      "<b> I even bought alcohol just because you wanted to drink,</b>\n",
      "<b> What else do you wanna do?</b>\n",
      "-----\n",
      "<b>I said NO to triples that day! But you said Nothing will happen and police won't be there..</b>\n",
      "-----\n"
     ]
    }
   ],
   "source": [
    "# To know the dialogue of maximum length in my subtitle file.\n",
    "print(\"The longest dialogue length: \", np.array(lengths).max())\n",
    "print(\"This dialogue is:\")\n",
    "print(\"-----\")\n",
    "for i in np.arange(0, len(subs)):\n",
    "    if len(subs[i].text) == np.array(lengths).max():\n",
    "        print(subs[i].text)\n",
    "        print(\"-----\")"
   ]
  },
  {
   "cell_type": "code",
   "execution_count": 40,
   "id": "6e55741d-b7ee-4fb6-b41a-edcd8b7e75d8",
   "metadata": {},
   "outputs": [],
   "source": [
    "# Defined a function that returns me the duration of a dialougue at index 'i'.\n",
    "def GiveDurationof(i):\n",
    "    dialogueduration = (subs[i].start.hours*3600 + subs[i].end.minutes*60 + subs[i].end.seconds) - ( subs[i].end.hours*3600 + subs[i].start.minutes*60 + subs[i].start.seconds)\n",
    "    return dialogueduration"
   ]
  },
  {
   "cell_type": "code",
   "execution_count": 42,
   "id": "68cf2b9e-9117-4559-b6a9-fd99a4fbe7b6",
   "metadata": {},
   "outputs": [
    {
     "name": "stdout",
     "output_type": "stream",
     "text": [
      "<b>(singing a cute telugu song from KOT movie)</b>\n"
     ]
    }
   ],
   "source": [
    "# To know the dialogue with maximum duration in my subtitle file.\n",
    "for i in np.arange(0, len(subs)):\n",
    "    if GiveDurationof(i) == np.array(durations).max():\n",
    "        print(subs[i].text)"
   ]
  },
  {
   "cell_type": "code",
   "execution_count": 44,
   "id": "cc3c6e15-fc9c-4b23-9474-9fd7950b4ac1",
   "metadata": {},
   "outputs": [],
   "source": [
    "# Defining a function to Find the gap from ending of a particular dialogue to the beginning of the next one.\n",
    "# Using 'i' as argument will mean the gap after 'i'th dialogue ends till 'i+1'th dialougue begins.\n",
    "def FindGap(i):\n",
    "    Gap = (subs[i+1].start.minutes*60 + subs[i+1].start.seconds) - (subs[i].end.minutes*60 + subs[i].end.seconds)\n",
    "    return Gap"
   ]
  },
  {
   "cell_type": "code",
   "execution_count": 46,
   "id": "136dc69e-54ed-4c19-87b7-c8a125af225d",
   "metadata": {},
   "outputs": [],
   "source": [
    "# To Store all the gaps in the subtitle file in a list\n",
    "Gaps = []\n",
    "for i in np.arange(0, len(subs) - 2):\n",
    "    Gaps.append(FindGap(i))"
   ]
  },
  {
   "cell_type": "code",
   "execution_count": 50,
   "id": "4b99f185-021c-4dc6-90eb-c43c5d128b4a",
   "metadata": {},
   "outputs": [
    {
     "name": "stdout",
     "output_type": "stream",
     "text": [
      "59\n"
     ]
    }
   ],
   "source": [
    "# Printing the maximum gap time between two dialougues\n",
    "print(np.array(Gaps).max())"
   ]
  },
  {
   "cell_type": "code",
   "execution_count": 74,
   "id": "6f69cd12-7b3c-42f0-8984-f5fa4e24320c",
   "metadata": {},
   "outputs": [
    {
     "name": "stdout",
     "output_type": "stream",
     "text": [
      "The maximum gap is occuring after the dialogue <b>serious.</b> at index 333: \n"
     ]
    }
   ],
   "source": [
    "# To Know after what dialogue the maximum gap occurs:-\n",
    "for i in np.arange(0, len(subs) - 1):\n",
    "    if FindGap(i) == np.array(Gaps).max():\n",
    "        print('The maximum gap is occuring after the dialogue {} at index {}: '.format(subs[i].text, i))"
   ]
  },
  {
   "cell_type": "markdown",
   "id": "09377219-81e5-4a30-b2f6-3b5ae76b1741",
   "metadata": {},
   "source": [
    "## Replacing/Modifying specific Dialougues <a id=\"replace-dialogue\">"
   ]
  },
  {
   "cell_type": "code",
   "execution_count": 52,
   "id": "1fe5de07-ee52-4b9f-8705-5e2b270d5cc7",
   "metadata": {},
   "outputs": [],
   "source": [
    "# To change or makes changes to a dialogue at index 'i':-\n",
    "subs[i].text = 'NEW DIALOGUE!'\n",
    "# This will change the dialogue to \"NEW DIALOGUE!\""
   ]
  },
  {
   "cell_type": "code",
   "execution_count": 54,
   "id": "16e75e2f-bf1d-4e42-bb35-8e96f746e349",
   "metadata": {},
   "outputs": [
    {
     "data": {
      "text/plain": [
       "'NEW DIALOGUE!'"
      ]
     },
     "execution_count": 54,
     "metadata": {},
     "output_type": "execute_result"
    }
   ],
   "source": [
    "subs[i].text"
   ]
  },
  {
   "cell_type": "markdown",
   "id": "50ee62ae-c283-4d29-b10c-8c40a00b29ba",
   "metadata": {},
   "source": [
    "## Shifting all (or) few dialogues by some time. <a id=\"shift-dialogues\">"
   ]
  },
  {
   "cell_type": "code",
   "execution_count": 249,
   "id": "17ba6cd6-cecd-4e3d-9e5d-b73728bbf2ec",
   "metadata": {},
   "outputs": [],
   "source": [
    "# Selecting section of dialogues within a given time interval and shifting all of them 2 seconds prior.\n",
    "part = subs.slice(starts_after = {'minutes':10, 'seconds':00}, ends_before = {'minutes':19, 'seconds':00})\n",
    "part.shift(seconds = -2)"
   ]
  },
  {
   "cell_type": "code",
   "execution_count": 404,
   "id": "84a13e37-1bc9-46e0-92dd-d6d4d703a3cd",
   "metadata": {},
   "outputs": [],
   "source": [
    "from pysrt import SubRipFile"
   ]
  },
  {
   "cell_type": "code",
   "execution_count": 261,
   "id": "20a3abd6-c4cb-440c-9eff-5b046ee4f9e9",
   "metadata": {},
   "outputs": [],
   "source": [
    "# To selection a section of dialogues that start after a particular minute and ends before another particular minute.\n",
    "def slice(start, end):\n",
    "    part = []\n",
    "    for sub in subs:\n",
    "        if (sub.start.minutes > start) and (sub.end.minutes < end):\n",
    "            part.append(sub)\n",
    "    return SubRipFile(items=part)\n",
    "# It returns a SubRipFile that contains all the dialogues in the given condition."
   ]
  },
  {
   "cell_type": "markdown",
   "id": "645a4f22-af1d-4d05-9a2d-a89cc17e0897",
   "metadata": {},
   "source": [
    "## Translating my dialogues into whatever language I want the output to be in(currently Telugu). <a id=\"translate-dialogues\">"
   ]
  },
  {
   "cell_type": "code",
   "execution_count": null,
   "id": "cd95cf54-500b-440d-9ab4-8e3370d66407",
   "metadata": {
    "scrolled": true
   },
   "outputs": [],
   "source": [
    "# Install 'sarvamai' package\n",
    "!pip install sarvamai"
   ]
  },
  {
   "cell_type": "code",
   "execution_count": 273,
   "id": "67adcaef-eb66-4236-8ad2-263a8cbb5efc",
   "metadata": {},
   "outputs": [],
   "source": [
    "# Import SarvamAI object from the package\n",
    "from sarvamai import SarvamAI"
   ]
  },
  {
   "cell_type": "code",
   "execution_count": 279,
   "id": "01dc4234-74a0-4606-8290-90e1d9ae0b83",
   "metadata": {},
   "outputs": [],
   "source": [
    "# This is the syntax available at Sarvam API Documentation Website! Enter your API code in the specified place.\n",
    "client = SarvamAI(\n",
    "\t    api_subscription_key=\"ENTERKEYHERE\",\n",
    "\t)"
   ]
  },
  {
   "cell_type": "code",
   "execution_count": null,
   "id": "ef7719bb-4fd3-4291-a345-cd1c924fc97e",
   "metadata": {},
   "outputs": [],
   "source": [
    "# This is the cake! The \"client.text.translate()\" function will take 4 arguments.\n",
    "# The 4 arguments are Input text, Source and Target languages, Speaker Gender. It returns the translated text as output.\n",
    "response = client.text.translate(\n",
    "\t    input = \"\",\n",
    "\t    source_language_code=\"auto\",\n",
    "\t    target_language_code=\"te-IN\",\n",
    "\t    speaker_gender=\"Male\"\n",
    "\t)\n",
    "\t\n",
    "print(response)"
   ]
  },
  {
   "cell_type": "code",
   "execution_count": null,
   "id": "35bd3b5f-42d1-431e-9a81-e288992bb5a1",
   "metadata": {
    "scrolled": true
   },
   "outputs": [],
   "source": [
    "# See how the function is called giving all the necessary arguments, coverting all my dialogues into Telugu Language!\n",
    "translatedtext = []\n",
    "for i in np.arange(0, len(subs)):\n",
    "    cleanedsub = subs[i].text\n",
    "    response = client.text.translate(input=cleanedsub,\n",
    "                                     source_language_code=\"auto\",\n",
    "                                     target_language_code=\"te-IN\",\n",
    "                                     speaker_gender=\"Male\")\n",
    "    translatedtext.append(response.translated_text)"
   ]
  },
  {
   "cell_type": "code",
   "execution_count": null,
   "id": "0be54cae-49f8-4819-add0-8e90073a414f",
   "metadata": {},
   "outputs": [],
   "source": [
    "# After making the necessary changes, Save your subtitle file! There we go!\n",
    "subs.save('Directory\\\\Filename.srt')"
   ]
  },
  {
   "cell_type": "markdown",
   "id": "99494e0c-206e-406f-9d4b-fdc91836bcae",
   "metadata": {},
   "source": [
    "## References:-\n",
    "1. [Pysrt Package](https://pypi.org/project/pysrt/)\n",
    "2. [Sarvam AI Translate](https://www.sarvam.ai/blogs/sarvam-translate)"
   ]
  },
  {
   "cell_type": "code",
   "execution_count": null,
   "id": "a228182f-5933-4e46-8472-833b06e9f233",
   "metadata": {},
   "outputs": [],
   "source": []
  }
 ],
 "metadata": {
  "kernelspec": {
   "display_name": "Python 3 (ipykernel)",
   "language": "python",
   "name": "python3"
  },
  "language_info": {
   "codemirror_mode": {
    "name": "ipython",
    "version": 3
   },
   "file_extension": ".py",
   "mimetype": "text/x-python",
   "name": "python",
   "nbconvert_exporter": "python",
   "pygments_lexer": "ipython3",
   "version": "3.12.4"
  }
 },
 "nbformat": 4,
 "nbformat_minor": 5
}
